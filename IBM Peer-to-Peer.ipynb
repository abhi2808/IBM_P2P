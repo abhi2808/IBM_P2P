{
 "cells": [
  {
   "cell_type": "markdown",
   "id": "0d55ba88",
   "metadata": {},
   "source": [
    "### Final Project"
   ]
  },
  {
   "cell_type": "markdown",
   "id": "c4a4e3a8",
   "metadata": {},
   "source": [
    "### IBM Peer-to-Peer"
   ]
  },
  {
   "cell_type": "markdown",
   "id": "3ee5a766",
   "metadata": {},
   "source": [
    "Hello, I am Abhinav Bisht and this is my peer to peer notebook"
   ]
  },
  {
   "cell_type": "markdown",
   "id": "a8b45f61",
   "metadata": {},
   "source": [
    "Data Science Languages:\n",
    "* Python\n",
    "* R\n",
    "* Scala"
   ]
  },
  {
   "cell_type": "markdown",
   "id": "76802ecd",
   "metadata": {},
   "source": [
    "Data Science Liabraries:\n",
    "* numpy\n",
    "* pandas\n",
    "* sklearn\n",
    "* keras\n",
    "* tensorflow"
   ]
  },
  {
   "cell_type": "markdown",
   "id": "9e47d79c",
   "metadata": {},
   "source": [
    "| SNo. | Tool |\n",
    "| ---- | ---- |\n",
    "| 1 | Jupiter Notebook |\n",
    "| 2 | R Studio |\n"
   ]
  },
  {
   "cell_type": "markdown",
   "id": "9422d306",
   "metadata": {},
   "source": [
    "arthematic expressions are the ones you can perform methamatical expressions over"
   ]
  },
  {
   "cell_type": "code",
   "execution_count": 6,
   "id": "603e4f14",
   "metadata": {},
   "outputs": [
    {
     "name": "stdout",
     "output_type": "stream",
     "text": [
      "enter a number: 5\n",
      "enter a number: 5\n"
     ]
    }
   ],
   "source": [
    "a=int(input(\"enter a number: \"))\n",
    "b=int(input(\"enter a number: \"))\n",
    "add=a+b\n",
    "mul=a*b"
   ]
  },
  {
   "cell_type": "code",
   "execution_count": 8,
   "id": "43ffb67c",
   "metadata": {},
   "outputs": [
    {
     "name": "stdout",
     "output_type": "stream",
     "text": [
      "enter number of minutes: 120\n",
      "2.0\n"
     ]
    }
   ],
   "source": [
    "min=int(input(\"enter number of minutes: \"))\n",
    "hours=min/60\n",
    "print(hours)"
   ]
  },
  {
   "cell_type": "markdown",
   "id": "d742532c",
   "metadata": {},
   "source": [
    "Objectives:\n",
    "* to complete this course"
   ]
  },
  {
   "cell_type": "markdown",
   "id": "e0eec71c",
   "metadata": {},
   "source": [
    "Author: Abhinav Bisht"
   ]
  },
  {
   "cell_type": "code",
   "execution_count": null,
   "id": "f4741582",
   "metadata": {},
   "outputs": [],
   "source": []
  }
 ],
 "metadata": {
  "kernelspec": {
   "display_name": "Python 3 (ipykernel)",
   "language": "python",
   "name": "python3"
  },
  "language_info": {
   "codemirror_mode": {
    "name": "ipython",
    "version": 3
   },
   "file_extension": ".py",
   "mimetype": "text/x-python",
   "name": "python",
   "nbconvert_exporter": "python",
   "pygments_lexer": "ipython3",
   "version": "3.11.5"
  }
 },
 "nbformat": 4,
 "nbformat_minor": 5
}
